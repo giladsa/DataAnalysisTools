{
 "cells": [
  {
   "cell_type": "code",
   "execution_count": 1,
   "metadata": {
    "collapsed": true
   },
   "outputs": [],
   "source": [
    "import numpy as np\n",
    "import pandas\n",
    "import scipy.stats\n",
    "import statsmodels.formula.api as smf\n",
    "import statsmodels.stats.multicomp as multi \n",
    "%matplotlib inline\n",
    "import matplotlib.pyplot as plt"
   ]
  },
  {
   "cell_type": "markdown",
   "metadata": {},
   "source": [
    "# Car Evaluation Database"
   ]
  },
  {
   "cell_type": "markdown",
   "metadata": {},
   "source": [
    "Car Evaluation Database is part of UC Irvine Machine Learning Repository. The data can be found at this link. The dataset contains 7 attributes:\n",
    "1. The class, how clients accepted the car. This attribute has 4 values: unacc, acc, good, vgood\n",
    "2. buying: vhigh, high, med, low. \n",
    "3. maint: vhigh, high, med, low.\n",
    "4. doors: 2, 3, 4, 5more \n",
    "5. persons: 2, 4, more. \n",
    "6. lug_boot: small, med, big. \n",
    "7. safety: low, med, high.\n",
    "\n",
    "In week 2 we explored the relationship between the safety and whether clients accept the car. We showed that there is a relationship between safety and level of acceptance. More details can be found at [link](https://github.com/giladsa/DataAnalysisTools/blob/master/week2_cars.ipynb)\n",
    "\n",
    "In this work we check if this fact is moderated by the cost of the car \"buying\"."
   ]
  },
  {
   "cell_type": "code",
   "execution_count": 2,
   "metadata": {
    "collapsed": true
   },
   "outputs": [],
   "source": [
    "url = 'http://archive.ics.uci.edu/ml/machine-learning-databases/car/car.data'\n",
    "header =np.array(['buying','maint','doors','persons','lug_boot','safety','class'])\n",
    "data = pandas.read_csv(url, low_memory=False,names=header)"
   ]
  },
  {
   "cell_type": "markdown",
   "metadata": {},
   "source": [
    "Similar to week 2 we use a boolean value of whether the car is recommended or not"
   ]
  },
  {
   "cell_type": "code",
   "execution_count": 3,
   "metadata": {
    "collapsed": true
   },
   "outputs": [],
   "source": [
    "data['recommend'] = data['class'].map(lambda x:  'dontBuy' if (x=='unacc' or x=='acc') else 'buy')"
   ]
  },
  {
   "cell_type": "markdown",
   "metadata": {},
   "source": [
    "We will do the same for the buying cost, if it is vhigh or 'high' it will be \"expensive\" otherwise \"reasonable\""
   ]
  },
  {
   "cell_type": "code",
   "execution_count": 4,
   "metadata": {
    "collapsed": true
   },
   "outputs": [],
   "source": [
    "data['expensive'] = data['maint'].map(lambda x:  'expensive' if (x=='vhigh' or x=='high') else 'reasonable')"
   ]
  },
  {
   "cell_type": "markdown",
   "metadata": {},
   "source": [
    "We will create 2 sub datasets based of whether the car is expensive"
   ]
  },
  {
   "cell_type": "code",
   "execution_count": 5,
   "metadata": {
    "collapsed": true
   },
   "outputs": [],
   "source": [
    "expensive = data[(data['expensive']=='expensive')]\n",
    "reasonable = data[(data['expensive']=='reasonable')]"
   ]
  },
  {
   "cell_type": "markdown",
   "metadata": {},
   "source": [
    "## Check for expensive cars"
   ]
  },
  {
   "cell_type": "code",
   "execution_count": 6,
   "metadata": {
    "collapsed": false
   },
   "outputs": [
    {
     "name": "stdout",
     "output_type": "stream",
     "text": [
      "safety     high  low  med\n",
      "recommend                \n",
      "buy          13    0    0\n",
      "dontBuy     275  288  288\n"
     ]
    }
   ],
   "source": [
    "ct=pandas.crosstab(expensive['recommend'],expensive['safety'])\n",
    "print (ct)"
   ]
  },
  {
   "cell_type": "code",
   "execution_count": 7,
   "metadata": {
    "collapsed": false
   },
   "outputs": [
    {
     "name": "stdout",
     "output_type": "stream",
     "text": [
      "(26.397179788484141, 1.8532125817174455e-06, 2, array([[   4.33333333,    4.33333333,    4.33333333],\n",
      "       [ 283.66666667,  283.66666667,  283.66666667]]))\n"
     ]
    }
   ],
   "source": [
    "cs= scipy.stats.chi2_contingency(ct)\n",
    "print (cs)"
   ]
  },
  {
   "cell_type": "markdown",
   "metadata": {},
   "source": [
    "We see that for expensive cars there is a relation betweeb safety and whether clients are willing to buy the car. We will check sub-group"
   ]
  },
  {
   "cell_type": "code",
   "execution_count": 8,
   "metadata": {
    "collapsed": true
   },
   "outputs": [],
   "source": [
    "def chi2ByCat(data,recodeObj):\n",
    "    data['COMP_rec']= data['safety'].map(recodeObj)\n",
    "    ct=pandas.crosstab(data['recommend'], data['COMP_rec'])\n",
    "    print (ct)\n",
    "    colsum=ct.sum(axis=0)\n",
    "    colpct=ct/colsum\n",
    "    print(colpct)\n",
    "    cs= scipy.stats.chi2_contingency(ct)\n",
    "    print (cs)"
   ]
  },
  {
   "cell_type": "code",
   "execution_count": 9,
   "metadata": {
    "collapsed": false
   },
   "outputs": [
    {
     "name": "stdout",
     "output_type": "stream",
     "text": [
      "COMP_rec   high  low\n",
      "recommend           \n",
      "buy          13    0\n",
      "dontBuy     275  288\n",
      "COMP_rec       high  low\n",
      "recommend               \n",
      "buy        0.045139    0\n",
      "dontBuy    0.954861    1\n",
      "(11.332695723459487, 0.00076154271093483328, 1, array([[   6.5,    6.5],\n",
      "       [ 281.5,  281.5]]))\n"
     ]
    },
    {
     "name": "stderr",
     "output_type": "stream",
     "text": [
      "d:\\devtools\\Anaconda3\\lib\\site-packages\\ipykernel\\__main__.py:2: SettingWithCopyWarning: \n",
      "A value is trying to be set on a copy of a slice from a DataFrame.\n",
      "Try using .loc[row_indexer,col_indexer] = value instead\n",
      "\n",
      "See the caveats in the documentation: http://pandas.pydata.org/pandas-docs/stable/indexing.html#indexing-view-versus-copy\n",
      "  from ipykernel import kernelapp as app\n"
     ]
    }
   ],
   "source": [
    "recode1 = {\"high\": \"high\", \"low\": \"low\"}\n",
    "chi2ByCat(expensive,recode1)"
   ]
  },
  {
   "cell_type": "code",
   "execution_count": 10,
   "metadata": {
    "collapsed": false
   },
   "outputs": [
    {
     "name": "stdout",
     "output_type": "stream",
     "text": [
      "COMP_rec   high  med\n",
      "recommend           \n",
      "buy          13    0\n",
      "dontBuy     275  288\n",
      "COMP_rec       high  med\n",
      "recommend               \n",
      "buy        0.045139    0\n",
      "dontBuy    0.954861    1\n",
      "(11.332695723459487, 0.00076154271093483328, 1, array([[   6.5,    6.5],\n",
      "       [ 281.5,  281.5]]))\n"
     ]
    },
    {
     "name": "stderr",
     "output_type": "stream",
     "text": [
      "d:\\devtools\\Anaconda3\\lib\\site-packages\\ipykernel\\__main__.py:2: SettingWithCopyWarning: \n",
      "A value is trying to be set on a copy of a slice from a DataFrame.\n",
      "Try using .loc[row_indexer,col_indexer] = value instead\n",
      "\n",
      "See the caveats in the documentation: http://pandas.pydata.org/pandas-docs/stable/indexing.html#indexing-view-versus-copy\n",
      "  from ipykernel import kernelapp as app\n"
     ]
    }
   ],
   "source": [
    "recode1 = recode1 = {\"high\": \"high\", \"med\": \"med\"}\n",
    "chi2ByCat(expensive,recode1)"
   ]
  },
  {
   "cell_type": "code",
   "execution_count": 11,
   "metadata": {
    "collapsed": false
   },
   "outputs": [
    {
     "name": "stdout",
     "output_type": "stream",
     "text": [
      "COMP_rec   low  med\n",
      "recommend          \n",
      "dontBuy    288  288\n",
      "COMP_rec   low  med\n",
      "recommend          \n",
      "dontBuy      1    1\n",
      "(0.0, 1.0, 0, array([[ 288.,  288.]]))\n"
     ]
    },
    {
     "name": "stderr",
     "output_type": "stream",
     "text": [
      "d:\\devtools\\Anaconda3\\lib\\site-packages\\ipykernel\\__main__.py:2: SettingWithCopyWarning: \n",
      "A value is trying to be set on a copy of a slice from a DataFrame.\n",
      "Try using .loc[row_indexer,col_indexer] = value instead\n",
      "\n",
      "See the caveats in the documentation: http://pandas.pydata.org/pandas-docs/stable/indexing.html#indexing-view-versus-copy\n",
      "  from ipykernel import kernelapp as app\n"
     ]
    }
   ],
   "source": [
    "recode1 = {\"low\": \"low\", \"med\": \"med\"}\n",
    "chi2ByCat(expensive,recode1)"
   ]
  },
  {
   "cell_type": "markdown",
   "metadata": {},
   "source": [
    "In conclusion, we see the same trend for high-med and high-low, thus the cost of car isn't a moderate. Regarding low-med there it isn't recommend to buy such car anyhow, regardless to the cost"
   ]
  },
  {
   "cell_type": "markdown",
   "metadata": {},
   "source": [
    "## Reasonable cost"
   ]
  },
  {
   "cell_type": "code",
   "execution_count": 12,
   "metadata": {
    "collapsed": false
   },
   "outputs": [
    {
     "name": "stdout",
     "output_type": "stream",
     "text": [
      "safety     high  low  med\n",
      "recommend                \n",
      "buy          82    0   39\n",
      "dontBuy     206  288  249\n",
      "(97.006951937087734, 8.6140628022603454e-22, 2, array([[  40.33333333,   40.33333333,   40.33333333],\n",
      "       [ 247.66666667,  247.66666667,  247.66666667]]))\n"
     ]
    }
   ],
   "source": [
    "ct=pandas.crosstab(reasonable['recommend'],reasonable['safety'])\n",
    "print (ct)\n",
    "cs= scipy.stats.chi2_contingency(ct)\n",
    "print (cs)\n"
   ]
  },
  {
   "cell_type": "markdown",
   "metadata": {},
   "source": [
    "Conclusion, low cost car isn't a moderate factor. We see that also for not-expensive car safety is a major factor, regardless to the cost."
   ]
  },
  {
   "cell_type": "code",
   "execution_count": 13,
   "metadata": {
    "collapsed": false
   },
   "outputs": [
    {
     "name": "stdout",
     "output_type": "stream",
     "text": [
      "COMP_rec   high  low\n",
      "recommend           \n",
      "buy          82    0\n",
      "dontBuy     206  288\n",
      "COMP_rec       high  low\n",
      "recommend               \n",
      "buy        0.284722    0\n",
      "dontBuy    0.715278    1\n",
      "(93.293571640169844, 4.5085406739280325e-22, 1, array([[  41.,   41.],\n",
      "       [ 247.,  247.]]))\n"
     ]
    },
    {
     "name": "stderr",
     "output_type": "stream",
     "text": [
      "d:\\devtools\\Anaconda3\\lib\\site-packages\\ipykernel\\__main__.py:2: SettingWithCopyWarning: \n",
      "A value is trying to be set on a copy of a slice from a DataFrame.\n",
      "Try using .loc[row_indexer,col_indexer] = value instead\n",
      "\n",
      "See the caveats in the documentation: http://pandas.pydata.org/pandas-docs/stable/indexing.html#indexing-view-versus-copy\n",
      "  from ipykernel import kernelapp as app\n"
     ]
    }
   ],
   "source": [
    "recode1 = {\"high\": \"high\", \"low\": \"low\"}\n",
    "chi2ByCat(reasonable,recode1)"
   ]
  },
  {
   "cell_type": "code",
   "execution_count": 14,
   "metadata": {
    "collapsed": false
   },
   "outputs": [
    {
     "name": "stdout",
     "output_type": "stream",
     "text": [
      "COMP_rec   high  med\n",
      "recommend           \n",
      "buy          82   39\n",
      "dontBuy     206  249\n",
      "COMP_rec       high       med\n",
      "recommend                    \n",
      "buy        0.284722  0.135417\n",
      "dontBuy    0.715278  0.864583\n",
      "(18.455435473617293, 1.7392405653996703e-05, 1, array([[  60.5,   60.5],\n",
      "       [ 227.5,  227.5]]))\n"
     ]
    },
    {
     "name": "stderr",
     "output_type": "stream",
     "text": [
      "d:\\devtools\\Anaconda3\\lib\\site-packages\\ipykernel\\__main__.py:2: SettingWithCopyWarning: \n",
      "A value is trying to be set on a copy of a slice from a DataFrame.\n",
      "Try using .loc[row_indexer,col_indexer] = value instead\n",
      "\n",
      "See the caveats in the documentation: http://pandas.pydata.org/pandas-docs/stable/indexing.html#indexing-view-versus-copy\n",
      "  from ipykernel import kernelapp as app\n"
     ]
    }
   ],
   "source": [
    "recode1 = recode1 = {\"high\": \"high\", \"med\": \"med\"}\n",
    "chi2ByCat(reasonable,recode1)"
   ]
  },
  {
   "cell_type": "code",
   "execution_count": 15,
   "metadata": {
    "collapsed": false
   },
   "outputs": [
    {
     "name": "stdout",
     "output_type": "stream",
     "text": [
      "COMP_rec   low  med\n",
      "recommend          \n",
      "buy          0   39\n",
      "dontBuy    288  249\n",
      "COMP_rec   low       med\n",
      "recommend               \n",
      "buy          0  0.135417\n",
      "dontBuy      1  0.864583\n",
      "(39.714654061022777, 2.9391191640380984e-10, 1, array([[  19.5,   19.5],\n",
      "       [ 268.5,  268.5]]))\n"
     ]
    },
    {
     "name": "stderr",
     "output_type": "stream",
     "text": [
      "d:\\devtools\\Anaconda3\\lib\\site-packages\\ipykernel\\__main__.py:2: SettingWithCopyWarning: \n",
      "A value is trying to be set on a copy of a slice from a DataFrame.\n",
      "Try using .loc[row_indexer,col_indexer] = value instead\n",
      "\n",
      "See the caveats in the documentation: http://pandas.pydata.org/pandas-docs/stable/indexing.html#indexing-view-versus-copy\n",
      "  from ipykernel import kernelapp as app\n"
     ]
    }
   ],
   "source": [
    "recode1 = {\"low\": \"low\", \"med\": \"med\"}\n",
    "chi2ByCat(reasonable,recode1)"
   ]
  },
  {
   "cell_type": "markdown",
   "metadata": {},
   "source": [
    "Conclusion safety affects clients willingness to buy a car. The cost isn't a moderated factor"
   ]
  }
 ],
 "metadata": {
  "kernelspec": {
   "display_name": "Python 3",
   "language": "python",
   "name": "python3"
  },
  "language_info": {
   "codemirror_mode": {
    "name": "ipython",
    "version": 3
   },
   "file_extension": ".py",
   "mimetype": "text/x-python",
   "name": "python",
   "nbconvert_exporter": "python",
   "pygments_lexer": "ipython3",
   "version": "3.5.1"
  }
 },
 "nbformat": 4,
 "nbformat_minor": 0
}
