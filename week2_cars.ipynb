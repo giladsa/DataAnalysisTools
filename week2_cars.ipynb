{
 "cells": [
  {
   "cell_type": "code",
   "execution_count": 1,
   "metadata": {
    "collapsed": true
   },
   "outputs": [],
   "source": [
    "import numpy as np\n",
    "import pandas\n",
    "import scipy.stats\n",
    "import statsmodels.formula.api as smf\n",
    "import statsmodels.stats.multicomp as multi \n",
    "%matplotlib inline\n",
    "import matplotlib.pyplot as plt"
   ]
  },
  {
   "cell_type": "markdown",
   "metadata": {},
   "source": [
    "# Car Evaluation Database "
   ]
  },
  {
   "cell_type": "markdown",
   "metadata": {},
   "source": [
    "Car Evaluation Database is part of UC Irvine Machine Learning Repository. The data can be found at this  [link](http://archive.ics.uci.edu/ml/datasets/Car+Evaluation). The dataset contains 7 attributes:\n",
    "    1. The class, how clients accepted the car. This attribute has 4 values: unacc, acc, good, vgood\n",
    "    2. buying: vhigh, high, med, low. \n",
    "    3. maint: vhigh, high, med, low.\n",
    "    4. doors: 2, 3, 4, 5more \n",
    "    5. persons: 2, 4, more. \n",
    "    6. lug_boot: small, med, big. \n",
    "    7. safety: low, med, high.\n"
   ]
  },
  {
   "cell_type": "code",
   "execution_count": 2,
   "metadata": {
    "collapsed": true
   },
   "outputs": [],
   "source": [
    "url = 'http://archive.ics.uci.edu/ml/machine-learning-databases/car/car.data'\n",
    "header =np.array(['buying','maint','doors','persons','lug_boot','safety','class'])\n",
    "data = pandas.read_csv(url, low_memory=False,names=header)"
   ]
  },
  {
   "cell_type": "code",
   "execution_count": 3,
   "metadata": {
    "collapsed": false
   },
   "outputs": [],
   "source": [
    "data['recommend'] = data['class'].map(lambda x:  'dontBuy' if (x=='unacc' or x=='acc') else 'buy')"
   ]
  },
  {
   "cell_type": "markdown",
   "metadata": {},
   "source": [
    "To simplify the decision making, we set only 2 groups, if the class is either 'unacc' or 'acc' then we recommend not to buy ('dontBuy'), otherwise 'buy'.\n",
    "The research question is whether there is a relationship among the safety levels and the recommendation. The Ho hypothesis is no relationship thus have same proposition among all groups"
   ]
  },
  {
   "cell_type": "code",
   "execution_count": 4,
   "metadata": {
    "collapsed": false
   },
   "outputs": [
    {
     "name": "stdout",
     "output_type": "stream",
     "text": [
      "safety     high  low  med\n",
      "recommend                \n",
      "buy          95    0   39\n",
      "dontBuy     481  576  537\n"
     ]
    }
   ],
   "source": [
    "ct=pandas.crosstab(data['recommend'],data['safety'])\n",
    "print (ct)"
   ]
  },
  {
   "cell_type": "code",
   "execution_count": 5,
   "metadata": {
    "collapsed": false
   },
   "outputs": [
    {
     "name": "stdout",
     "output_type": "stream",
     "text": [
      "safety         high  low       med\n",
      "recommend                         \n",
      "buy        0.164931    0  0.067708\n",
      "dontBuy    0.835069    1  0.932292\n"
     ]
    }
   ],
   "source": [
    "colsum=ct.sum(axis=0)\n",
    "colpct=ct/colsum\n",
    "print(colpct)"
   ]
  },
  {
   "cell_type": "code",
   "execution_count": 6,
   "metadata": {
    "collapsed": false
   },
   "outputs": [
    {
     "name": "stdout",
     "output_type": "stream",
     "text": [
      "(110.68791550403567, 9.2134979089091716e-25, 2, array([[  44.66666667,   44.66666667,   44.66666667],\n",
      "       [ 531.33333333,  531.33333333,  531.33333333]]))\n"
     ]
    }
   ],
   "source": [
    "cs= scipy.stats.chi2_contingency(ct)\n",
    "print (cs)"
   ]
  },
  {
   "cell_type": "markdown",
   "metadata": {},
   "source": [
    "Since P-value is very small 9.21e-25, we can reject H0 and claim that there is a relationship between safety level and the recommendation (whether to buy). However we need to further check sub-group, by performing post hoc test"
   ]
  },
  {
   "cell_type": "code",
   "execution_count": 7,
   "metadata": {
    "collapsed": false
   },
   "outputs": [],
   "source": [
    "\n",
    "def chi2ByCat(recodeObj):\n",
    "    data['COMP_rec']= data['safety'].map(recodeObj)\n",
    "    ct=pandas.crosstab(data['recommend'], data['COMP_rec'])\n",
    "    print (ct)\n",
    "    colsum=ct.sum(axis=0)\n",
    "    colpct=ct/colsum\n",
    "    print(colpct)\n",
    "    cs= scipy.stats.chi2_contingency(ct)\n",
    "    print (cs)\n"
   ]
  },
  {
   "cell_type": "code",
   "execution_count": 8,
   "metadata": {
    "collapsed": false
   },
   "outputs": [
    {
     "name": "stdout",
     "output_type": "stream",
     "text": [
      "COMP_rec   high  low\n",
      "recommend           \n",
      "buy          95    0\n",
      "dontBuy     481  576\n",
      "COMP_rec       high  low\n",
      "recommend               \n",
      "buy        0.164931    0\n",
      "dontBuy    0.835069    1\n",
      "(101.37003435741671, 7.6309496731851569e-24, 1, array([[  47.5,   47.5],\n",
      "       [ 528.5,  528.5]]))\n"
     ]
    }
   ],
   "source": [
    "recode1 = {\"high\": \"high\", \"low\": \"low\"}\n",
    "chi2ByCat(recode1)"
   ]
  },
  {
   "cell_type": "code",
   "execution_count": 9,
   "metadata": {
    "collapsed": false
   },
   "outputs": [
    {
     "name": "stdout",
     "output_type": "stream",
     "text": [
      "COMP_rec   high  med\n",
      "recommend           \n",
      "buy          95   39\n",
      "dontBuy     481  537\n",
      "COMP_rec       high       med\n",
      "recommend                    \n",
      "buy        0.164931  0.067708\n",
      "dontBuy    0.835069  0.932292\n",
      "(25.546139635809165, 4.319293625897001e-07, 1, array([[  67.,   67.],\n",
      "       [ 509.,  509.]]))\n"
     ]
    }
   ],
   "source": [
    "recode1 = {\"high\": \"high\", \"med\": \"med\"}\n",
    "chi2ByCat(recode1)"
   ]
  },
  {
   "cell_type": "code",
   "execution_count": 10,
   "metadata": {
    "collapsed": false
   },
   "outputs": [
    {
     "name": "stdout",
     "output_type": "stream",
     "text": [
      "COMP_rec   low  med\n",
      "recommend          \n",
      "buy          0   39\n",
      "dontBuy    576  537\n",
      "COMP_rec   low       med\n",
      "recommend               \n",
      "buy          0  0.067708\n",
      "dontBuy      1  0.932292\n",
      "(38.323035455110933, 5.9950769745059618e-10, 1, array([[  19.5,   19.5],\n",
      "       [ 556.5,  556.5]]))\n"
     ]
    }
   ],
   "source": [
    "recode1 = {\"low\": \"low\", \"med\": \"med\"}\n",
    "chi2ByCat(recode1)"
   ]
  },
  {
   "cell_type": "code",
   "execution_count": 11,
   "metadata": {
    "collapsed": false
   },
   "outputs": [
    {
     "name": "stdout",
     "output_type": "stream",
     "text": [
      "the adjusted ratio:  0.016666666666666666\n"
     ]
    }
   ],
   "source": [
    "print (\"the adjusted ratio: \",0.05 /3 )"
   ]
  },
  {
   "cell_type": "markdown",
   "metadata": {},
   "source": [
    "To conclude, as we can expect, safety level is a major factor, thus its level affects the decision of whether to buy a car or not. Since all p-values are smaller than the adjusted ratio, then for all safety level the ratio of whether to buy is signficant."
   ]
  }
 ],
 "metadata": {
  "kernelspec": {
   "display_name": "Python 3",
   "language": "python",
   "name": "python3"
  },
  "language_info": {
   "codemirror_mode": {
    "name": "ipython",
    "version": 3
   },
   "file_extension": ".py",
   "mimetype": "text/x-python",
   "name": "python",
   "nbconvert_exporter": "python",
   "pygments_lexer": "ipython3",
   "version": "3.5.1"
  }
 },
 "nbformat": 4,
 "nbformat_minor": 0
}
