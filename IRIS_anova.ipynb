{
 "cells": [
  {
   "cell_type": "code",
   "execution_count": 40,
   "metadata": {
    "collapsed": true
   },
   "outputs": [],
   "source": [
    "import numpy as np\n",
    "import pandas\n",
    "import statsmodels.formula.api as smf\n",
    "import statsmodels.stats.multicomp as multi \n",
    "%matplotlib inline\n",
    "import matplotlib.pyplot as plt\n"
   ]
  },
  {
   "cell_type": "markdown",
   "metadata": {},
   "source": [
    "# IRIS Dataset"
   ]
  },
  {
   "cell_type": "markdown",
   "metadata": {},
   "source": [
    "\n",
    "This notebook analysis the IRIS dataset, the data codebook can be found at this [link](https://archive.ics.uci.edu/ml/machine-learning-databases/iris/iris.names)"
   ]
  },
  {
   "cell_type": "code",
   "execution_count": 20,
   "metadata": {
    "collapsed": false
   },
   "outputs": [],
   "source": [
    "url = 'https://archive.ics.uci.edu/ml/machine-learning-databases/iris/iris.data'\n",
    "header =np.array(['sepal_length','sepal_width','petal_length','petal_width','flowr_class'])\n",
    "data = pandas.read_csv(url, low_memory=False,names=header)"
   ]
  },
  {
   "cell_type": "code",
   "execution_count": 26,
   "metadata": {
    "collapsed": false
   },
   "outputs": [
    {
     "name": "stdout",
     "output_type": "stream",
     "text": [
      "(150, 5)\n"
     ]
    }
   ],
   "source": [
    "print(data.shape) # matrix size"
   ]
  },
  {
   "cell_type": "code",
   "execution_count": 27,
   "metadata": {
    "collapsed": false
   },
   "outputs": [
    {
     "name": "stdout",
     "output_type": "stream",
     "text": [
      "   sepal_length  sepal_width  petal_length  petal_width  flowr_class\n",
      "0           5.1          3.5           1.4          0.2  Iris-setosa\n",
      "1           4.9          3.0           1.4          0.2  Iris-setosa\n",
      "2           4.7          3.2           1.3          0.2  Iris-setosa\n",
      "3           4.6          3.1           1.5          0.2  Iris-setosa\n",
      "4           5.0          3.6           1.4          0.2  Iris-setosa\n"
     ]
    }
   ],
   "source": [
    "print (data.head(5)) #print the first 5 rows"
   ]
  },
  {
   "cell_type": "markdown",
   "metadata": {},
   "source": [
    "The research question is whether the sepal length of all flowers is the same?. The Ho is all means are equals"
   ]
  },
  {
   "cell_type": "code",
   "execution_count": 42,
   "metadata": {
    "collapsed": false
   },
   "outputs": [
    {
     "data": {
      "text/plain": [
       "<matplotlib.axes._subplots.AxesSubplot at 0xd53cba8>"
      ]
     },
     "execution_count": 42,
     "metadata": {},
     "output_type": "execute_result"
    },
    {
     "data": {
      "image/png": "[encoded data removed]",
      "text/plain": [
       "<matplotlib.figure.Figure at 0xcfdfdd8>"
      ]
     },
     "metadata": {},
     "output_type": "display_data"
    }
   ],
   "source": [
    "data.boxplot (column='sepal_length',by='flowr_class')"
   ]
  },
  {
   "cell_type": "code",
   "execution_count": 43,
   "metadata": {
    "collapsed": false
   },
   "outputs": [
    {
     "name": "stdout",
     "output_type": "stream",
     "text": [
      "                            OLS Regression Results                            \n",
      "==============================================================================\n",
      "Dep. Variable:           sepal_length   R-squared:                       0.619\n",
      "Model:                            OLS   Adj. R-squared:                  0.614\n",
      "Method:                 Least Squares   F-statistic:                     119.3\n",
      "Date:                Fri, 15 Jan 2016   Prob (F-statistic):           1.67e-31\n",
      "Time:                        17:32:21   Log-Likelihood:                -111.73\n",
      "No. Observations:                 150   AIC:                             229.5\n",
      "Df Residuals:                     147   BIC:                             238.5\n",
      "Df Model:                           2                                         \n",
      "Covariance Type:            nonrobust                                         \n",
      "=====================================================================================================\n",
      "                                        coef    std err          t      P>|t|      [95.0% Conf. Int.]\n",
      "-----------------------------------------------------------------------------------------------------\n",
      "Intercept                             5.0060      0.073     68.762      0.000         4.862     5.150\n",
      "C(flowr_class)[T.Iris-versicolor]     0.9300      0.103      9.033      0.000         0.727     1.133\n",
      "C(flowr_class)[T.Iris-virginica]      1.5820      0.103     15.366      0.000         1.379     1.785\n",
      "==============================================================================\n",
      "Omnibus:                        1.188   Durbin-Watson:                   2.043\n",
      "Prob(Omnibus):                  0.552   Jarque-Bera (JB):                0.785\n",
      "Skew:                           0.119   Prob(JB):                        0.675\n",
      "Kurtosis:                       3.263   Cond. No.                         3.73\n",
      "==============================================================================\n",
      "\n",
      "Warnings:\n",
      "[1] Standard Errors assume that the covariance matrix of the errors is correctly specified.\n"
     ]
    }
   ],
   "source": [
    "# using ols function for calculating the F-statistic and associated p value\n",
    "model = smf.ols(formula='sepal_length ~ C(flowr_class)', data=data)\n",
    "results = model.fit()\n",
    "print (results.summary())\n"
   ]
  },
  {
   "cell_type": "markdown",
   "metadata": {},
   "source": [
    "Since p-value is very small we can reject H0 and say that sepal length are different among the different flowers. Since there are more than 2 categorical values, we need to preform Tuckey test in order to find with flowers have a different mean"
   ]
  },
  {
   "cell_type": "code",
   "execution_count": 44,
   "metadata": {
    "collapsed": false
   },
   "outputs": [
    {
     "name": "stdout",
     "output_type": "stream",
     "text": [
      "      Multiple Comparison of Means - Tukey HSD,FWER=0.05     \n",
      "=============================================================\n",
      "     group1          group2     meandiff lower  upper  reject\n",
      "-------------------------------------------------------------\n",
      "  Iris-setosa   Iris-versicolor   0.93   0.6862 1.1738  True \n",
      "  Iris-setosa    Iris-virginica  1.582   1.3382 1.8258  True \n",
      "Iris-versicolor  Iris-virginica  0.652   0.4082 0.8958  True \n",
      "-------------------------------------------------------------\n"
     ]
    }
   ],
   "source": [
    "mc = multi.MultiComparison(data['sepal_length'], data['flowr_class'])\n",
    "res = mc.tukeyhsd()\n",
    "print(res.summary())"
   ]
  },
  {
   "cell_type": "markdown",
   "metadata": {},
   "source": [
    "To conclude, there is a significant difference of sepal length among all the flowers. It was shown by the boxplot and formalize by ANOVA and Tuckey test "
   ]
  }
 ],
 "metadata": {
  "kernelspec": {
   "display_name": "Python 3",
   "language": "python",
   "name": "python3"
  },
  "language_info": {
   "codemirror_mode": {
    "name": "ipython",
    "version": 3
   },
   "file_extension": ".py",
   "mimetype": "text/x-python",
   "name": "python",
   "nbconvert_exporter": "python",
   "pygments_lexer": "ipython3",
   "version": "3.5.1"
  }
 },
 "nbformat": 4,
 "nbformat_minor": 0
}
